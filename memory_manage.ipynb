{
 "cells": [
  {
   "cell_type": "code",
   "execution_count": 1,
   "id": "9f1f1269",
   "metadata": {},
   "outputs": [
    {
     "name": "stdout",
     "output_type": "stream",
     "text": [
      "0\n",
      "1\n",
      "2\n",
      "3\n",
      "4\n",
      "5\n",
      "6\n",
      "7\n",
      "8\n",
      "9\n"
     ]
    }
   ],
   "source": [
    "## genreatora for memory Efficieny\n",
    "\n",
    "def generate_nummbers(n):\n",
    "    \"\"\"Generate a list of numbers from 0 to n-1.\"\"\"\n",
    "    for i in range(n):\n",
    "        yield i\n",
    "\n",
    " ## using the generator\n",
    "for number in generate_nummbers(10):\n",
    "    print(number)\n",
    "    if number>10:\n",
    "        break       "
   ]
  }
 ],
 "metadata": {
  "kernelspec": {
   "display_name": "virtual_env",
   "language": "python",
   "name": "python3"
  },
  "language_info": {
   "codemirror_mode": {
    "name": "ipython",
    "version": 3
   },
   "file_extension": ".py",
   "mimetype": "text/x-python",
   "name": "python",
   "nbconvert_exporter": "python",
   "pygments_lexer": "ipython3",
   "version": "3.12.3"
  }
 },
 "nbformat": 4,
 "nbformat_minor": 5
}
